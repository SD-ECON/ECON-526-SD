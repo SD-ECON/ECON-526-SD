{
 "cells": [
  {
   "cell_type": "code",
   "execution_count": null,
   "metadata": {},
   "outputs": [],
   "source": [
    "import numpy as np\n",
    "import statsmodels as sm\n",
    "import pandas as pd\n",
    "import seaborn as sb\n",
    "#import linearmodels as lm"
   ]
  },
  {
   "cell_type": "code",
   "execution_count": null,
   "metadata": {},
   "outputs": [],
   "source": [
    "#compile data\n",
    "Canada = pd.read_csv('2005+canada.csv')\n",
    "Saint_Johns = pd.read_csv(\"2005+ StJohns.csv\")\n",
    "Charlottown = pd.read_csv('2005+charlottown.csv')\n",
    "Halifax = pd.read_csv('2005+halifax.csv')\n",
    "St_JohnsNB = pd.read_csv('2005+ StJohns.csv')\n",
    "Quebec_City = pd.read_csv('2005+QC.csv')\n",
    "Montreal = pd.read_csv('2005+montreal.csv')\n",
    "Ottawa = pd.read_csv('2005^Mottawa.csv')\n",
    "Toronto = pd.read_csv('2005+ toronto.csv')\n",
    "Thunder_Bay = pd.read_csv('2005+ thunder bay.csv')\n",
    "Winnipeg = pd.read_csv('2005+winnipeg.csv')\n",
    "Regina = pd.read_csv('2005+regina.csv')\n",
    "Saskatoon= pd.read_csv('2005+saskatoon.csv')\n",
    "Calgary = pd.read_csv('2005+calgary.csv')\n",
    "Edmonton = pd.read_csv('2005+edmonton.csv')\n",
    "Vancouver = pd.read_csv('2005+vancouver.csv')\n",
    "Victoria = pd.read_csv('2005^Mvictoria.csv')\n",
    "Whitehorse = pd.read_csv('2005+whitehorse.csv')\n",
    "Yellowknife = pd.read_csv('2005+yellowknife.csv')\n",
    "WTI_spot_USD = pd.read_csv(\"2005+ WTI Price Monthly USD.csv\")\n",
    "IPPI = pd.read_csv('2005+IPPI.csv')\n",
    "NX_seas = pd.read_csv(\"2005+ Import export customs seas adj.csv\")\n",
    "GDP_seas = pd.read_csv(\"2005+ gdp montly by industry seas adj.csv\")\n",
    "Gasoline_Diesel_Sales_dollars = pd.read_csv(\"gasoline-diesel sales annually ($) by province.csv\")\n",
    "prov_pop = pd.read_csv(\"2002 quarterly population est by province .csv\")\n",
    "#Calgary.head()\n",
    "\n",
    "Gasoline_Diesel_Sales_dollars.columns"
   ]
  }
 ],
 "metadata": {
  "language_info": {
   "name": "python"
  }
 },
 "nbformat": 4,
 "nbformat_minor": 2
}
